{
  "nbformat": 4,
  "nbformat_minor": 0,
  "metadata": {
    "colab": {
      "provenance": [],
      "mount_file_id": "1PhYRfsJAjAY8roppZi2cg6uRwLhOv_wf",
      "authorship_tag": "ABX9TyNyS2wc72TqOJmZCLhH7zrq",
      "include_colab_link": true
    },
    "kernelspec": {
      "name": "python3",
      "display_name": "Python 3"
    },
    "language_info": {
      "name": "python"
    }
  },
  "cells": [
    {
      "cell_type": "markdown",
      "metadata": {
        "id": "view-in-github",
        "colab_type": "text"
      },
      "source": [
        "<a href=\"https://colab.research.google.com/github/yusufX019/assymetric_FFNN/blob/colab/FFNN.ipynb\" target=\"_parent\"><img src=\"https://colab.research.google.com/assets/colab-badge.svg\" alt=\"Open In Colab\"/></a>"
      ]
    },
    {
      "cell_type": "code",
      "execution_count": null,
      "metadata": {
        "id": "9lc2kupSyzz4",
        "colab": {
          "base_uri": "https://localhost:8080/"
        },
        "outputId": "7591916f-5ab8-4574-d71a-d934c32a0607"
      },
      "outputs": [
        {
          "output_type": "stream",
          "name": "stdout",
          "text": [
            "Drive already mounted at /content/drive; to attempt to forcibly remount, call drive.mount(\"/content/drive\", force_remount=True).\n"
          ]
        }
      ],
      "source": [
        "# Импортируем данные из Гугл диска на котором МНИСТ данные \n",
        "from google.colab import drive\n",
        "drive.mount('/content/drive')\n"
      ]
    },
    {
      "cell_type": "markdown",
      "source": [],
      "metadata": {
        "id": "YJac8Y8K7Qsx"
      }
    },
    {
      "cell_type": "markdown",
      "source": [
        "Импортируем нужные библиотеки"
      ],
      "metadata": {
        "id": "rKzASJZC7SOc"
      }
    },
    {
      "cell_type": "code",
      "source": [
        "import numpy as np\n",
        "import time\n",
        "import matplotlib.ticker as mticker\n",
        "import matplotlib.pyplot\n",
        "%matplotlib inline"
      ],
      "metadata": {
        "id": "RikJB0BG7WKi"
      },
      "execution_count": null,
      "outputs": []
    },
    {
      "cell_type": "markdown",
      "source": [
        "Загружаем данные МНИСТ из гугл диска\n"
      ],
      "metadata": {
        "id": "cEpYGP3h9Eb9"
      }
    },
    {
      "cell_type": "code",
      "source": [
        "# Данные для обучения \n",
        "# mnist_train_x => архив изображений\n",
        "# mnist_train_y => архив цифр в численном виде каждого изображения\n",
        "mnist_train_x = \"/content/drive/MyDrive/FFNN_project/train-images.idx3-ubyte\"\n",
        "mnist_train_y = \"/content/drive/MyDrive/FFNN_project/train-labels.idx1-ubyte\"\n",
        "\n",
        "# Данные для тестинга\n",
        "# mnist_test_x => архив изображений\n",
        "# mnist_test_y => архив цифр в численном виде каждого изображения\n",
        "mnist_test_x = \"/content/drive/MyDrive/FFNN_project/t10k-images.idx3-ubyte\"\n",
        "mnist_test_y = \"/content/drive/MyDrive/FFNN_project/t10k-labels.idx1-ubyte\""
      ],
      "metadata": {
        "id": "dith0OLT9MsV"
      },
      "execution_count": null,
      "outputs": []
    },
    {
      "cell_type": "markdown",
      "source": [
        "Функция для преобразования ubyte данных в csv "
      ],
      "metadata": {
        "id": "-iMnWqDaDPFc"
      }
    },
    {
      "cell_type": "code",
      "source": [
        "# функция получающая на вход:\n",
        "# -> изображение\n",
        "# -> лейбл (численное представления изображения)\n",
        "# -> выходной файл\n",
        "def convert(imgf, labelf, outf, n):\n",
        "    f = open(imgf, \"rb\")\n",
        "    o = open(outf, \"w\")\n",
        "    l = open(labelf, \"rb\")\n",
        "\n",
        "    f.read(16)\n",
        "    l.read(8)\n",
        "    images = []\n",
        "\n",
        "    for i in range(n):\n",
        "        image = [ord(l.read(1))]\n",
        "        for j in range(28*28):\n",
        "            image.append(ord(f.read(1)))\n",
        "        images.append(image)\n",
        "\n",
        "    for image in images:\n",
        "        o.write(\",\".join(str(pix) for pix in image)+\"\\n\")\n",
        "    f.close()\n",
        "    o.close()\n",
        "    l.close()"
      ],
      "metadata": {
        "id": "G2oNJHnBDaBP"
      },
      "execution_count": null,
      "outputs": []
    },
    {
      "cell_type": "markdown",
      "source": [
        "Конвертация ubyte в csv"
      ],
      "metadata": {
        "id": "gguIskp3RYUO"
      }
    },
    {
      "cell_type": "code",
      "source": [
        "# Конвертация данных обучения\n",
        "convert(mnist_train_x, mnist_train_y, \"/content/drive/MyDrive/FFNN_project/train.csv\", 60000)\n",
        "\n",
        "# Конвертация тестовых данных\n",
        "convert(mnist_test_x, mnist_test_y, \"/content/drive/MyDrive/FFNN_project/test.csv\", 10000)"
      ],
      "metadata": {
        "id": "aAOT5idKRcQy"
      },
      "execution_count": null,
      "outputs": []
    },
    {
      "cell_type": "code",
      "source": [
        "Визуализация данных"
      ],
      "metadata": {
        "id": "dGRaUpmIzc1C"
      },
      "execution_count": null,
      "outputs": []
    },
    {
      "cell_type": "code",
      "source": [
        "# Открываем файл для чтения и считываем каждую строку в массив string\n",
        "train_file = open(\"/content/drive/MyDrive/FFNN_project/train.csv\", \"r\")\n",
        "train_list = train_file.readlines()\n",
        "train_file.close()\n",
        "\n",
        "test_file = open(\"/content/drive/MyDrive/FFNN_project/test.csv\", 'r')\n",
        "test_list = test_file.readlines()\n",
        "test_file.close()\n",
        "\n",
        "# Форматируем данную строку виде 28х28 и передаем matplotlib\n",
        "values = train_list[0].split(\",\")\n",
        "image_array = np.asfarray(values[1:]).reshape((28,28))\n",
        "matplotlib.pyplot.imshow(image_array, cmap='Greys', interpolation='None')\n",
        "\n"
      ],
      "metadata": {
        "colab": {
          "base_uri": "https://localhost:8080/",
          "height": 447
        },
        "id": "zEWo8wSEziRQ",
        "outputId": "faf40e27-3780-4145-f3cf-a9ecce84b562"
      },
      "execution_count": null,
      "outputs": [
        {
          "output_type": "execute_result",
          "data": {
            "text/plain": [
              "<matplotlib.image.AxesImage at 0x7f2ed8c7f910>"
            ]
          },
          "metadata": {},
          "execution_count": 8
        },
        {
          "output_type": "display_data",
          "data": {
            "text/plain": [
              "<Figure size 640x480 with 1 Axes>"
            ],
            "image/png": "[encoded data removed]"
          },
          "metadata": {}
        }
      ]
    },
    {
      "cell_type": "code",
      "source": [
        "Класс в котором будет реализованы все основные функции сети"
      ],
      "metadata": {
        "id": "q73atVnnBSmA"
      },
      "execution_count": null,
      "outputs": []
    },
    {
      "cell_type": "code",
      "source": [
        "class FFNN:\n",
        "  def __init__(self, sizes, epochs, lr):\n",
        "    self.sizes = sizes\n",
        "    self.epochs = epochs\n",
        "    self.lr = lr\n",
        "\n",
        "    # Количество состовляющих в каждом слое нс\n",
        "    input_layer = self.sizes[0]    # Входной слой\n",
        "    hidden_1 = self.sizes[1]       # Первый скрытый слой\n",
        "    hidden_2 = self.sizes[2]       # Второй скрытый слой\n",
        "    output_layer = self.sizes[3]   # Выходной слой\n",
        "\n",
        "\n",
        "    # распределение весов\n",
        "    # W1 - Между входный слоем и первым скрытым слоем\n",
        "    # W2 - Между первым скрытм слоем и вторым \n",
        "    # W3 - Между вторым скрытым слоем и выходным слоем\n",
        "    self.params = {\n",
        "        'W1':np.random.randn(hidden_1, input_layer) * np.sqrt(1. / hidden_1),         # 784x128 комбинаций\n",
        "        'W2':np.random.randn(hidden_2, hidden_1) * np.sqrt(1. / hidden_2),            # 128x64 комбинаций\n",
        "        'W3':np.random.randn(output_layer, hidden_2) * np.sqrt(1. / output_layer)     # 64x10 комбинаций\n",
        "    }\n",
        "\n",
        "  # Функция сигмоиды\n",
        "  def sigmoid(self, x, derivative=False):\n",
        "      if derivative:\n",
        "          return (np.exp(-x))/((np.exp(-x)+1)**2)\n",
        "      return 1/(1 + np.exp(-x))\n",
        "  \n",
        "  # Функция софт макс\n",
        "  def softmax(self, x, derivative=False):\n",
        "      # Numerically stable with large exponentials\n",
        "      exps = np.exp(x - x.max())\n",
        "      if derivative:\n",
        "          return exps / np.sum(exps, axis=0) * (1 - exps / np.sum(exps, axis=0))\n",
        "      return exps / np.sum(exps, axis=0)\n",
        "  \n",
        "\n",
        "  \n",
        "  '''\n",
        "    Алгоритм прямого распростронения\n",
        "\n",
        "  '''\n",
        "  def forward_pass(self, x_train):\n",
        "      params = self.params\n",
        "\n",
        "      # Значения активации нейронов входного слоя\n",
        "      params['A0'] = x_train\n",
        "\n",
        "      # Значения активации нейронов первого скрытого слоя\n",
        "      params['Z1'] = np.dot(params[\"W1\"], params['A0'])\n",
        "      params['A1'] = self.sigmoid(params['Z1'])\n",
        "\n",
        "      # Значения активацци нейронов второго скрытого слоя\n",
        "      params['Z2'] = np.dot(params[\"W2\"], params['A1'])\n",
        "      params['A2'] = self.sigmoid(params['Z2'])\n",
        "\n",
        "      # Значения нейронов выходного слоя по которым будет оцениваться результрующий выбор НС\n",
        "      params['Z3'] = np.dot(params[\"W3\"], params['A2'])\n",
        "      params['A3'] = self.softmax(params['Z3'])\n",
        "\n",
        "      return params['A3']\n",
        "\n",
        "\n",
        "  '''\n",
        "    Функция обратного распространения\n",
        "\n",
        "  '''\n",
        "  def backward_pass(self, y_train, output):\n",
        "      params = self.params\n",
        "      change_w = {}\n",
        "\n",
        "      # Рассчитываем ошибку\n",
        "      error = 2 * (output - y_train) / output.shape[0] * self.softmax(params['Z3'], derivative=True)\n",
        "      change_w['W3'] = np.outer(error, params['A2'])\n",
        "\n",
        "      # Рассчитываем веса W2\n",
        "      error = np.dot(params['W3'].T, error) * self.sigmoid(params['Z2'], derivative=True)\n",
        "      change_w['W2'] = np.outer(error, params['A1'])\n",
        "\n",
        "      # Рассчитываем веса W3\n",
        "      error = np.dot(params['W2'].T, error) * self.sigmoid(params['Z1'], derivative=True)\n",
        "      change_w['W1'] = np.outer(error, params['A0'])\n",
        "\n",
        "      return change_w\n",
        "\n",
        "\n",
        "  # Функция для обновления весов\n",
        "  def update_network_parameters(self, changes_to_w):\n",
        "      for key, value in changes_to_w.items():\n",
        "          self.params[key] -= self.lr * value\n",
        "\n",
        "\n",
        "  def draw_graphics(self, acc_y):\n",
        "      epochs_x = [i for i in range(1, self.epochs+1)]\n",
        "      matplotlib.pyplot.plot(epochs_x, acc_y)\n",
        "      matplotlib.pyplot.fill_between(epochs_x, acc_y, color='lightblue')\n",
        "      \n",
        "      matplotlib.pyplot.xlabel(\"№ Эпохи\")\n",
        "      matplotlib.pyplot.ylabel(\"Точность\")\n",
        "\n",
        "      plt.gca().yaxis.set_major_formatter(mticker.PercentFormatter(1.0))\n",
        "\n",
        "      plt.title('Показатель точность при каждой эпохе')\n",
        "      plt.show()\n",
        "\n",
        "\n",
        "\n",
        "  # Функция тестирования НС\n",
        "  def compute_accuracy(self, test_data):\n",
        "      '''\n",
        "        Данная функция повторяет логику функции функции train\n",
        "        Только на этот раз используется данные для тестирования\n",
        "\n",
        "      '''\n",
        "      predictions = []\n",
        "\n",
        "      for x in test_data:\n",
        "          all_values = x.split(',')\n",
        "          inputs = (np.asfarray(all_values[1:]) / 255.0 * 0.99) + 0.01\n",
        "          targets = np.zeros(10) + 0.01\n",
        "          targets[int(all_values[0])] = 0.99\n",
        "          output = self.forward_pass(inputs)\n",
        "          pred = np.argmax(output)\n",
        "          predictions.append(pred == np.argmax(targets))\n",
        "      \n",
        "      return np.mean(predictions)\n",
        "\n",
        "\n",
        "  # Функция обучения\n",
        "  def train(self, train_list, test_list):\n",
        "      start_time = time.time()\n",
        "      accurancies_y=[]\n",
        "      for iteration in range(self.epochs):\n",
        "          \n",
        "          # Обрабатываем каждое изоброжения в списке\n",
        "          for x in train_list:\n",
        "              all_values = x.split(',')\n",
        "              \n",
        "              # Нормализация значения яркости пикселя\n",
        "              inputs = (np.asfarray(all_values[1:]) / 255.0 * 0.99) + 0.01\n",
        "              \n",
        "              # Создаем массив(вектор) выходных нейронов сети\n",
        "              # Помечаем правильный ответ 0.99 а все остальные 0.01\n",
        "              targets = np.zeros(10) + 0.01\n",
        "              targets[int(all_values[0])] = 0.99\n",
        "\n",
        "              # Получаем результаты выходных слоем путем прямого распространения\n",
        "              # Рассчитываем ошибку и обновляем все веса путем обратного распространения\n",
        "              output = self.forward_pass(inputs)\n",
        "              changes_to_w = self.backward_pass(targets, output)\n",
        "              self.update_network_parameters(changes_to_w)\n",
        "          \n",
        "          accuracy = self.compute_accuracy(test_list)\n",
        "          accurancies_y.append(accuracy)\n",
        "          print('Epoch: {0}, Time Spent: {1:.2f}s, Accuracy: {2:.2f}%'.format(\n",
        "              iteration+1, time.time() - start_time, accuracy * 100\n",
        "          ))\n",
        "\n",
        "      # Отображаем данные в виде графика\n",
        "      self.draw_graphics(accurancies_y)\n",
        "      \n",
        "\n",
        "    \n",
        "      \n"
      ],
      "metadata": {
        "id": "d8dtUQYIBZy6"
      },
      "execution_count": null,
      "outputs": []
    },
    {
      "cell_type": "code",
      "source": [
        "ffnn = FFNN(sizes=[784, 128, 64, 10], epochs=20, lr=0.01)\n",
        "ffnn.train(train_list, test_list)"
      ],
      "metadata": {
        "colab": {
          "base_uri": "https://localhost:8080/",
          "height": 819
        },
        "id": "DPgUEBfShJT0",
        "outputId": "e369f50c-b2ce-402f-c936-6f6f27cbb763"
      },
      "execution_count": null,
      "outputs": [
        {
          "output_type": "stream",
          "name": "stdout",
          "text": [
            "Epoch: 1, Time Spent: 37.77s, Accuracy: 55.02%\n",
            "Epoch: 2, Time Spent: 77.30s, Accuracy: 60.38%\n",
            "Epoch: 3, Time Spent: 115.37s, Accuracy: 63.44%\n",
            "Epoch: 4, Time Spent: 151.50s, Accuracy: 68.41%\n",
            "Epoch: 5, Time Spent: 189.47s, Accuracy: 73.44%\n",
            "Epoch: 6, Time Spent: 227.55s, Accuracy: 75.26%\n",
            "Epoch: 7, Time Spent: 265.69s, Accuracy: 75.73%\n",
            "Epoch: 8, Time Spent: 303.50s, Accuracy: 75.98%\n",
            "Epoch: 9, Time Spent: 341.60s, Accuracy: 76.47%\n",
            "Epoch: 10, Time Spent: 381.24s, Accuracy: 77.47%\n",
            "Epoch: 11, Time Spent: 419.71s, Accuracy: 78.53%\n",
            "Epoch: 12, Time Spent: 457.88s, Accuracy: 79.37%\n",
            "Epoch: 13, Time Spent: 496.35s, Accuracy: 80.00%\n",
            "Epoch: 14, Time Spent: 533.60s, Accuracy: 81.51%\n",
            "Epoch: 15, Time Spent: 571.74s, Accuracy: 85.41%\n",
            "Epoch: 16, Time Spent: 610.48s, Accuracy: 87.21%\n",
            "Epoch: 17, Time Spent: 648.61s, Accuracy: 88.01%\n",
            "Epoch: 18, Time Spent: 688.73s, Accuracy: 88.55%\n",
            "Epoch: 19, Time Spent: 727.10s, Accuracy: 88.89%\n",
            "Epoch: 20, Time Spent: 765.67s, Accuracy: 89.44%\n"
          ]
        },
        {
          "output_type": "display_data",
          "data": {
            "text/plain": [
              "<Figure size 640x480 with 1 Axes>"
            ],
            "image/png": "[encoded data removed]"
          },
          "metadata": {}
        }
      ]
    }
  ]
}